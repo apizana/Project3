{
 "cells": [
  {
   "cell_type": "code",
   "execution_count": 42,
   "id": "2fa2aed2",
   "metadata": {},
   "outputs": [],
   "source": [
    "from pymongo import MongoClient\n",
    "import pandas as pd\n",
    "from pprint import pprint\n",
    "import matplotlib.pyplot as plt\n",
    "import ipywidgets as widgets\n",
    "from IPython.display import display, HTML"
   ]
  },
  {
   "cell_type": "code",
   "execution_count": 43,
   "id": "af92e5ca",
   "metadata": {},
   "outputs": [],
   "source": [
    "# Create an instance of MongoClient\n",
    "mongo = MongoClient(port=27017)"
   ]
  },
  {
   "cell_type": "code",
   "execution_count": 44,
   "id": "19fd472a",
   "metadata": {},
   "outputs": [],
   "source": [
    "db = mongo['AlzheimersDB']"
   ]
  },
  {
   "cell_type": "code",
   "execution_count": 45,
   "id": "817fbe7b",
   "metadata": {},
   "outputs": [],
   "source": [
    "Questions = db['Question_Data']"
   ]
  },
  {
   "cell_type": "code",
   "execution_count": 46,
   "id": "e2cd224c",
   "metadata": {},
   "outputs": [],
   "source": [
    "data = list(Questions.find({\"LocationDesc\": \"Texas\"}, {\"_id\": 0}))\n",
    "\n",
    "AlzDB_df = pd.DataFrame(data)"
   ]
  },
  {
   "cell_type": "code",
   "execution_count": 47,
   "id": "173dac62",
   "metadata": {},
   "outputs": [
    {
     "data": {
      "application/vnd.jupyter.widget-view+json": {
       "model_id": "02399cab554a4a21a2b22528762417ba",
       "version_major": 2,
       "version_minor": 0
      },
      "text/plain": [
       "Dropdown(description='Select Question:', options=('All', 'Percentage of older adults who are eating 3 or more …"
      ]
     },
     "metadata": {},
     "output_type": "display_data"
    },
    {
     "data": {
      "application/vnd.jupyter.widget-view+json": {
       "model_id": "22d91304f5a446eb854fc074bfd4de40",
       "version_major": 2,
       "version_minor": 0
      },
      "text/plain": [
       "Dropdown(description='Select Gender or Race/Ethnicity:', options=('All', 'Female', 'White, non-Hispanic', nan,…"
      ]
     },
     "metadata": {},
     "output_type": "display_data"
    },
    {
     "data": {
      "application/vnd.jupyter.widget-view+json": {
       "model_id": "ffd8a3ba5c434ed6baf128849eb9e828",
       "version_major": 2,
       "version_minor": 0
      },
      "text/plain": [
       "Dropdown(description='Select Age Group:', options=('All', 'Overall', '50-64 years', '65 years or older'), valu…"
      ]
     },
     "metadata": {},
     "output_type": "display_data"
    },
    {
     "data": {
      "application/vnd.jupyter.widget-view+json": {
       "model_id": "dd49143bd71d4af4b7c153158d5982ef",
       "version_major": 2,
       "version_minor": 0
      },
      "text/plain": [
       "Output()"
      ]
     },
     "metadata": {},
     "output_type": "display_data"
    }
   ],
   "source": [
    "\n",
    "# Create dropdown widgets\n",
    "question_dropdown = widgets.Dropdown(\n",
    "    options=['All'] + list(AlzDB_df['Question'].unique()),\n",
    "    value='All',\n",
    "    description='Select Question:'\n",
    ")\n",
    "\n",
    "stratification_dropdown = widgets.Dropdown(\n",
    "    options=['All'] + list(AlzDB_df['Gender or Race/Ethnicity'].unique()),\n",
    "    value='All',\n",
    "    description='Select Gender or Race/Ethnicity:'\n",
    ")\n",
    "\n",
    "age_group_dropdown = widgets.Dropdown(\n",
    "    options=['All'] + list(AlzDB_df['Age Group'].unique()),  # Assuming \"Age Group\" is the column name\n",
    "    value='All',\n",
    "    description='Select Age Group:'\n",
    ")\n",
    "\n",
    "# Define update_data function\n",
    "def update_data(change):\n",
    "    question = question_dropdown.value\n",
    "    stratification = stratification_dropdown.value\n",
    "    age_group = age_group_dropdown.value\n",
    "    \n",
    "    filtered_data = AlzDB_df\n",
    "    if question != 'All':\n",
    "        filtered_data = filtered_data[filtered_data['Question'] == question]\n",
    "    if stratification != 'All':\n",
    "        filtered_data = filtered_data[filtered_data['Gender or Race/Ethnicity'] == stratification]\n",
    "    if age_group != 'All':\n",
    "        filtered_data = filtered_data[filtered_data['Age Group'] == age_group]\n",
    "    \n",
    "    with output:\n",
    "        output.clear_output()\n",
    "        display_data(filtered_data)\n",
    "\n",
    "# Observe dropdown changes\n",
    "question_dropdown.observe(update_data, names='value')\n",
    "stratification_dropdown.observe(update_data, names='value')\n",
    "age_group_dropdown.observe(update_data, names='value')\n",
    "\n",
    "# Create an output widget\n",
    "output = widgets.Output()\n",
    "\n",
    "# Display widgets\n",
    "display(question_dropdown, stratification_dropdown, age_group_dropdown, output)\n",
    "\n",
    "def display_data(data):\n",
    "    display(HTML(data.to_html(index=False)))\n"
   ]
  },
  {
   "cell_type": "code",
   "execution_count": null,
   "id": "786450c8",
   "metadata": {},
   "outputs": [],
   "source": []
  }
 ],
 "metadata": {
  "kernelspec": {
   "display_name": "dev",
   "language": "python",
   "name": "dev"
  },
  "language_info": {
   "codemirror_mode": {
    "name": "ipython",
    "version": 3
   },
   "file_extension": ".py",
   "mimetype": "text/x-python",
   "name": "python",
   "nbconvert_exporter": "python",
   "pygments_lexer": "ipython3",
   "version": "3.10.13"
  }
 },
 "nbformat": 4,
 "nbformat_minor": 5
}
