{
 "cells": [
  {
   "cell_type": "code",
   "execution_count": 54,
   "id": "2fa2aed2",
   "metadata": {},
   "outputs": [],
   "source": [
    "from pymongo import MongoClient\n",
    "import pandas as pd\n",
    "from pprint import pprint\n",
    "import matplotlib.pyplot as plt\n",
    "import ipywidgets as widgets\n",
    "from IPython.display import display, HTML"
   ]
  },
  {
   "cell_type": "code",
   "execution_count": 55,
   "id": "af92e5ca",
   "metadata": {},
   "outputs": [],
   "source": [
    "# Create an instance of MongoClient\n",
    "mongo = MongoClient(port=27017)"
   ]
  },
  {
   "cell_type": "code",
   "execution_count": 56,
   "id": "19fd472a",
   "metadata": {},
   "outputs": [],
   "source": [
    "db = mongo['AlzheimersDB']"
   ]
  },
  {
   "cell_type": "code",
   "execution_count": 57,
   "id": "817fbe7b",
   "metadata": {},
   "outputs": [],
   "source": [
    "Questions = db['Question_Data']"
   ]
  },
  {
   "cell_type": "code",
   "execution_count": 58,
   "id": "e2cd224c",
   "metadata": {},
   "outputs": [],
   "source": [
    "data = list(Questions.find({\"LocationDesc\": \"Texas\"}, {\"_id\": 0}))\n",
    "\n",
    "AlzDB_df = pd.DataFrame(data)"
   ]
  },
  {
   "cell_type": "code",
   "execution_count": 59,
   "id": "173dac62",
   "metadata": {},
   "outputs": [
    {
     "data": {
      "application/vnd.jupyter.widget-view+json": {
       "model_id": "d7366e7a35cf4a70a92d43046d368e16",
       "version_major": 2,
       "version_minor": 0
      },
      "text/plain": [
       "VBox(children=(Dropdown(description='Select Question:', options=('All', 'Percentage of older adults who are ea…"
      ]
     },
     "metadata": {},
     "output_type": "display_data"
    },
    {
     "data": {
      "text/plain": [
       "<Figure size 800x600 with 0 Axes>"
      ]
     },
     "metadata": {},
     "output_type": "display_data"
    }
   ],
   "source": [
    "\n",
    "# Create dropdown widgets\n",
    "question_dropdown = widgets.Dropdown(\n",
    "    options=['All'] + list(AlzDB_df['Question'].unique()),\n",
    "    value='All',\n",
    "    description='Select Question:'\n",
    ")\n",
    "\n",
    "stratification_dropdown = widgets.Dropdown(\n",
    "    options=['All'] + list(AlzDB_df['Gender or Race/Ethnicity'].unique()),\n",
    "    value='All',\n",
    "    description='Select Gender or Race/Ethnicity:'\n",
    ")\n",
    "\n",
    "age_group_dropdown = widgets.Dropdown(\n",
    "    options=['All'] + list(AlzDB_df['Age Group'].unique()),  \n",
    "    value='All',\n",
    "    description='Select Age Group:'\n",
    ")\n",
    "\n",
    "# Create matplotlib figure and axes\n",
    "plt.figure(figsize=(8, 6))\n",
    "\n",
    "# Define update_data function\n",
    "def update_data(change):\n",
    "    question = question_dropdown.value\n",
    "    stratification = stratification_dropdown.value\n",
    "    age_group = age_group_dropdown.value\n",
    "    \n",
    "    filtered_data = AlzDB_df\n",
    "    if question != 'All':\n",
    "        filtered_data = filtered_data[filtered_data['Question'] == question]\n",
    "    if stratification != 'All':\n",
    "        filtered_data = filtered_data[filtered_data['Gender or Race/Ethnicity'] == stratification]\n",
    "    if age_group != 'All':\n",
    "        filtered_data = filtered_data[filtered_data['Age Group'] == age_group]\n",
    "    \n",
    "    # Clear previous plot\n",
    "    plt.clf()\n",
    "\n",
    "     # Plot new bar chart\n",
    "    if not filtered_data.empty:\n",
    "        filtered_data.plot(kind='bar', x='Year', y='Data_Value', rot=0)\n",
    "        plt.xlabel('Question')\n",
    "        plt.ylabel('Data Value')\n",
    "        plt.title('Bar Chart of Data Value by Question Year')\n",
    "        plt.show()\n",
    "    \n",
    "    # Display filtered data in HTML table\n",
    "        with output:\n",
    "            output.clear_output()\n",
    "            display_data(filtered_data)\n",
    "\n",
    "    else:\n",
    "        print(\"No data available for the selected filters.\")\n",
    "\n",
    "\n",
    "\n",
    "# Observe dropdown changes\n",
    "question_dropdown.observe(update_data, names='value')\n",
    "stratification_dropdown.observe(update_data, names='value')\n",
    "age_group_dropdown.observe(update_data, names='value')\n",
    "\n",
    "# Create an output widget\n",
    "output = widgets.Output()\n",
    "\n",
    "# Display widgets\n",
    "display(widgets.VBox([question_dropdown, stratification_dropdown, age_group_dropdown, output]))\n",
    "\n",
    "# Function to display data as HTML table\n",
    "def display_data(data):\n",
    "    display(HTML(data.to_html(index=False)))"
   ]
  },
  {
   "cell_type": "code",
   "execution_count": null,
   "id": "60509c94",
   "metadata": {},
   "outputs": [],
   "source": []
  }
 ],
 "metadata": {
  "kernelspec": {
   "display_name": "dev",
   "language": "python",
   "name": "dev"
  },
  "language_info": {
   "codemirror_mode": {
    "name": "ipython",
    "version": 3
   },
   "file_extension": ".py",
   "mimetype": "text/x-python",
   "name": "python",
   "nbconvert_exporter": "python",
   "pygments_lexer": "ipython3",
   "version": "3.10.13"
  }
 },
 "nbformat": 4,
 "nbformat_minor": 5
}
