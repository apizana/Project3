{
 "cells": [
  {
   "cell_type": "code",
   "execution_count": 15,
   "id": "2fa2aed2",
   "metadata": {},
   "outputs": [],
   "source": [
    "from pymongo import MongoClient\n",
    "import pandas as pd\n",
    "from pprint import pprint\n",
    "import matplotlib.pyplot as plt\n",
    "import ipywidgets as widgets\n",
    "from IPython.display import display"
   ]
  },
  {
   "cell_type": "code",
   "execution_count": 16,
   "id": "af92e5ca",
   "metadata": {},
   "outputs": [],
   "source": [
    "# Create an instance of MongoClient\n",
    "mongo = MongoClient(port=27017)"
   ]
  },
  {
   "cell_type": "code",
   "execution_count": 17,
   "id": "19fd472a",
   "metadata": {},
   "outputs": [],
   "source": [
    "db = mongo['AlzheimersDB']"
   ]
  },
  {
   "cell_type": "code",
   "execution_count": 18,
   "id": "5411a1a2",
   "metadata": {},
   "outputs": [
    {
     "name": "stdout",
     "output_type": "stream",
     "text": [
      "['Question_Data']\n"
     ]
    }
   ],
   "source": [
    "print(db.list_collection_names())"
   ]
  },
  {
   "cell_type": "code",
   "execution_count": 19,
   "id": "817fbe7b",
   "metadata": {},
   "outputs": [],
   "source": [
    "Questions = db['Question_Data']"
   ]
  },
  {
   "cell_type": "code",
   "execution_count": 20,
   "id": "e2cd224c",
   "metadata": {},
   "outputs": [],
   "source": [
    "\n",
    "\n",
    "data = list(Questions.find({\"LocationDesc\": \"Texas\", \"Age Group\": \"Overall\"}, {\"_id\": 0}))\n",
    "\n",
    "AlzDB_df = pd.DataFrame(data)"
   ]
  },
  {
   "cell_type": "code",
   "execution_count": 21,
   "id": "d0330e69",
   "metadata": {},
   "outputs": [
    {
     "data": {
      "text/html": [
       "<div>\n",
       "<style scoped>\n",
       "    .dataframe tbody tr th:only-of-type {\n",
       "        vertical-align: middle;\n",
       "    }\n",
       "\n",
       "    .dataframe tbody tr th {\n",
       "        vertical-align: top;\n",
       "    }\n",
       "\n",
       "    .dataframe thead th {\n",
       "        text-align: right;\n",
       "    }\n",
       "</style>\n",
       "<table border=\"1\" class=\"dataframe\">\n",
       "  <thead>\n",
       "    <tr style=\"text-align: right;\">\n",
       "      <th></th>\n",
       "      <th>Year</th>\n",
       "      <th>LocationDesc</th>\n",
       "      <th>Class</th>\n",
       "      <th>Question</th>\n",
       "      <th>Data_Value</th>\n",
       "      <th>Low_Confidence_Limit</th>\n",
       "      <th>High_Confidence_Limit</th>\n",
       "      <th>Age Group</th>\n",
       "      <th>Gender or Race/Ethnicity</th>\n",
       "      <th>Geolocation</th>\n",
       "      <th>Data_Value_Footnote</th>\n",
       "    </tr>\n",
       "  </thead>\n",
       "  <tbody>\n",
       "    <tr>\n",
       "      <th>0</th>\n",
       "      <td>2021</td>\n",
       "      <td>Texas</td>\n",
       "      <td>Nutrition/Physical Activity/Obesity</td>\n",
       "      <td>Percentage of older adults who are eating 3 or...</td>\n",
       "      <td>19.5</td>\n",
       "      <td>16.6</td>\n",
       "      <td>22.8</td>\n",
       "      <td>Overall</td>\n",
       "      <td>Female</td>\n",
       "      <td>POINT (-99.42677020599967 31.827240407000488)</td>\n",
       "      <td>NaN</td>\n",
       "    </tr>\n",
       "    <tr>\n",
       "      <th>1</th>\n",
       "      <td>2021</td>\n",
       "      <td>Texas</td>\n",
       "      <td>Overall Health</td>\n",
       "      <td>Percentage of older adults ever told they have...</td>\n",
       "      <td>30.7</td>\n",
       "      <td>25.7</td>\n",
       "      <td>36.1</td>\n",
       "      <td>Overall</td>\n",
       "      <td>Hispanic</td>\n",
       "      <td>POINT (-99.42677020599967 31.827240407000488)</td>\n",
       "      <td>NaN</td>\n",
       "    </tr>\n",
       "    <tr>\n",
       "      <th>2</th>\n",
       "      <td>2021</td>\n",
       "      <td>Texas</td>\n",
       "      <td>Screenings and Vaccines</td>\n",
       "      <td>Percentage of older adults who reported influe...</td>\n",
       "      <td>48.9</td>\n",
       "      <td>41.4</td>\n",
       "      <td>56.5</td>\n",
       "      <td>Overall</td>\n",
       "      <td>Black, non-Hispanic</td>\n",
       "      <td>POINT (-99.42677020599967 31.827240407000488)</td>\n",
       "      <td>NaN</td>\n",
       "    </tr>\n",
       "    <tr>\n",
       "      <th>3</th>\n",
       "      <td>2020</td>\n",
       "      <td>Texas</td>\n",
       "      <td>Overall Health</td>\n",
       "      <td>Percentage of older adults ever told they have...</td>\n",
       "      <td>43.5</td>\n",
       "      <td>40.4</td>\n",
       "      <td>46.7</td>\n",
       "      <td>Overall</td>\n",
       "      <td>White, non-Hispanic</td>\n",
       "      <td>POINT (-99.42677020599967 31.827240407000488)</td>\n",
       "      <td>NaN</td>\n",
       "    </tr>\n",
       "    <tr>\n",
       "      <th>4</th>\n",
       "      <td>2020</td>\n",
       "      <td>Texas</td>\n",
       "      <td>Nutrition/Physical Activity/Obesity</td>\n",
       "      <td>Percentage of older adults who are currently o...</td>\n",
       "      <td>NaN</td>\n",
       "      <td>NaN</td>\n",
       "      <td>NaN</td>\n",
       "      <td>Overall</td>\n",
       "      <td>Native Am/Alaskan Native</td>\n",
       "      <td>POINT (-99.42677020599967 31.827240407000488)</td>\n",
       "      <td>Sample size of denominator and/or age group fo...</td>\n",
       "    </tr>\n",
       "  </tbody>\n",
       "</table>\n",
       "</div>"
      ],
      "text/plain": [
       "   Year LocationDesc                                Class  \\\n",
       "0  2021        Texas  Nutrition/Physical Activity/Obesity   \n",
       "1  2021        Texas                       Overall Health   \n",
       "2  2021        Texas              Screenings and Vaccines   \n",
       "3  2020        Texas                       Overall Health   \n",
       "4  2020        Texas  Nutrition/Physical Activity/Obesity   \n",
       "\n",
       "                                            Question  Data_Value  \\\n",
       "0  Percentage of older adults who are eating 3 or...        19.5   \n",
       "1  Percentage of older adults ever told they have...        30.7   \n",
       "2  Percentage of older adults who reported influe...        48.9   \n",
       "3  Percentage of older adults ever told they have...        43.5   \n",
       "4  Percentage of older adults who are currently o...         NaN   \n",
       "\n",
       "   Low_Confidence_Limit  High_Confidence_Limit Age Group  \\\n",
       "0                  16.6                   22.8   Overall   \n",
       "1                  25.7                   36.1   Overall   \n",
       "2                  41.4                   56.5   Overall   \n",
       "3                  40.4                   46.7   Overall   \n",
       "4                   NaN                    NaN   Overall   \n",
       "\n",
       "   Gender or Race/Ethnicity                                    Geolocation  \\\n",
       "0                    Female  POINT (-99.42677020599967 31.827240407000488)   \n",
       "1                  Hispanic  POINT (-99.42677020599967 31.827240407000488)   \n",
       "2       Black, non-Hispanic  POINT (-99.42677020599967 31.827240407000488)   \n",
       "3       White, non-Hispanic  POINT (-99.42677020599967 31.827240407000488)   \n",
       "4  Native Am/Alaskan Native  POINT (-99.42677020599967 31.827240407000488)   \n",
       "\n",
       "                                 Data_Value_Footnote  \n",
       "0                                                NaN  \n",
       "1                                                NaN  \n",
       "2                                                NaN  \n",
       "3                                                NaN  \n",
       "4  Sample size of denominator and/or age group fo...  "
      ]
     },
     "execution_count": 21,
     "metadata": {},
     "output_type": "execute_result"
    }
   ],
   "source": [
    "AlzDB_df.head()"
   ]
  },
  {
   "cell_type": "code",
   "execution_count": 22,
   "id": "173dac62",
   "metadata": {},
   "outputs": [
    {
     "data": {
      "application/vnd.jupyter.widget-view+json": {
       "model_id": "e685c8e3066248aeaa33dadb26a0e859",
       "version_major": 2,
       "version_minor": 0
      },
      "text/plain": [
       "Dropdown(description='Select Question:', options=('Percentage of older adults who are eating 3 or more vegetab…"
      ]
     },
     "metadata": {},
     "output_type": "display_data"
    },
    {
     "data": {
      "application/vnd.jupyter.widget-view+json": {
       "model_id": "b93c3031199c4425ba4eaee880f7ab01",
       "version_major": 2,
       "version_minor": 0
      },
      "text/plain": [
       "Dropdown(description='Select Gender or Race/Ethnicity:', options=('Female', 'Hispanic', 'Black, non-Hispanic',…"
      ]
     },
     "metadata": {},
     "output_type": "display_data"
    },
    {
     "data": {
      "application/vnd.jupyter.widget-view+json": {
       "model_id": "bddd36edabab473c8e70971a9a818456",
       "version_major": 2,
       "version_minor": 0
      },
      "text/plain": [
       "Output()"
      ]
     },
     "metadata": {},
     "output_type": "display_data"
    }
   ],
   "source": [
    "\n",
    "# Create dropdown widgets\n",
    "question_dropdown = widgets.Dropdown(\n",
    "    options=AlzDB_df['Question'].unique(),\n",
    "    description='Select Question:'\n",
    ")\n",
    "\n",
    "stratification_dropdown = widgets.Dropdown(\n",
    "    options=AlzDB_df['Gender or Race/Ethnicity'].unique(),\n",
    "    description='Select Gender or Race/Ethnicity:'\n",
    ")\n",
    "\n",
    "# Define update_data function\n",
    "def update_data(change):\n",
    "    question = question_dropdown.value\n",
    "    stratification = stratification_dropdown.value\n",
    "    if question is not None and stratification is not None:\n",
    "        filtered_data = AlzDB_df[(AlzDB_df['Question'] == question) & (AlzDB_df['Gender or Race/Ethnicity'] == stratification)]\n",
    "        with output:\n",
    "            output.clear_output()\n",
    "            display(filtered_data)\n",
    "\n",
    "# Observe dropdown changes\n",
    "question_dropdown.observe(update_data, names='value')\n",
    "stratification_dropdown.observe(update_data, names='value')\n",
    "\n",
    "# Create a button widget to show data\n",
    "button = widgets.Button(description='Show Data')\n",
    "\n",
    "# Create an output widget\n",
    "output = widgets.Output()\n",
    "\n",
    "# Define show_data function\n",
    "def show_data(button):\n",
    "    output.clear_output()\n",
    "    question = question_dropdown.value\n",
    "    stratification = stratification_dropdown.value\n",
    "    if question is not None and stratification is not None:\n",
    "        filtered_data = AlzDB_df[(AlzDB_df['Question'] == question) & (AlzDB_df['Gender or Race/Ethnicity'] == stratification)]\n",
    "        with output:\n",
    "            display(filtered_data)\n",
    "\n",
    "# Attach show_data function to button\n",
    "button.on_click(show_data)\n",
    "\n",
    "# Display widgets\n",
    "display(question_dropdown, stratification_dropdown, output)\n"
   ]
  },
  {
   "cell_type": "code",
   "execution_count": null,
   "id": "786450c8",
   "metadata": {},
   "outputs": [],
   "source": []
  }
 ],
 "metadata": {
  "kernelspec": {
   "display_name": "dev",
   "language": "python",
   "name": "dev"
  },
  "language_info": {
   "codemirror_mode": {
    "name": "ipython",
    "version": 3
   },
   "file_extension": ".py",
   "mimetype": "text/x-python",
   "name": "python",
   "nbconvert_exporter": "python",
   "pygments_lexer": "ipython3",
   "version": "3.10.13"
  }
 },
 "nbformat": 4,
 "nbformat_minor": 5
}
