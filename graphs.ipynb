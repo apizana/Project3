{
 "cells": [
  {
   "cell_type": "code",
   "execution_count": 1,
   "id": "0ed922bb",
   "metadata": {},
   "outputs": [],
   "source": [
    "from pymongo import MongoClient\n",
    "import pandas as pd\n",
    "from pprint import pprint\n",
    "import matplotlib.pyplot as plt\n",
    "import ipywidgets as widgets\n",
    "from IPython.display import display"
   ]
  },
  {
   "cell_type": "code",
   "execution_count": 2,
   "id": "74808339",
   "metadata": {},
   "outputs": [],
   "source": [
    "# Create an instance of MongoClient\n",
    "mongo = MongoClient(port=27017)"
   ]
  },
  {
   "cell_type": "code",
   "execution_count": 3,
   "id": "9e39099f",
   "metadata": {},
   "outputs": [],
   "source": [
    "db = mongo['AlzheimersDB']"
   ]
  },
  {
   "cell_type": "code",
   "execution_count": 4,
   "id": "a70ee3bf",
   "metadata": {},
   "outputs": [
    {
     "name": "stdout",
     "output_type": "stream",
     "text": [
      "['Question_Data']\n"
     ]
    }
   ],
   "source": [
    "print(db.list_collection_names())"
   ]
  },
  {
   "cell_type": "code",
   "execution_count": 5,
   "id": "9dddd26b",
   "metadata": {
    "scrolled": true
   },
   "outputs": [
    {
     "name": "stdout",
     "output_type": "stream",
     "text": [
      "{'_id': ObjectId('661dcac8d75ab54c7a0b01d4'), 'Year': 2019, 'LocationDesc': 'Midwest', 'Class': 'Mental Health', 'Question': 'Percentage of older adults with a lifetime diagnosis of depression', 'Data_Value': 10.6, 'Low_Confidence_Limit': 9.9, 'High_Confidence_Limit': 11.5, 'Age Group': '65 years or older', 'Gender or Race/Ethnicity': 'Male', 'Gender': 'Male'}\n"
     ]
    }
   ],
   "source": [
    "print(db.Question_Data.find_one())"
   ]
  },
  {
   "cell_type": "code",
   "execution_count": 6,
   "id": "d160d192",
   "metadata": {},
   "outputs": [],
   "source": [
    "#assign collection to a variable\n",
    "\n",
    "alz_list = db['Question_Data']"
   ]
  },
  {
   "cell_type": "code",
   "execution_count": 9,
   "id": "50940f53",
   "metadata": {},
   "outputs": [
    {
     "name": "stdout",
     "output_type": "stream",
     "text": [
      "Number of documents in result: 1098\n"
     ]
    }
   ],
   "source": [
    "query = {\"LocationDesc\": \"Texas\"}\n",
    "print(\"Number of documents in result:\", alz_list.count_documents(query)) \n",
    "\n",
    "\n",
    "\n"
   ]
  },
  {
   "cell_type": "code",
   "execution_count": 10,
   "id": "f2d5e458",
   "metadata": {},
   "outputs": [
    {
     "name": "stdout",
     "output_type": "stream",
     "text": [
      "[{'Gender': 'Male', 'Year': 2017, '_id': ObjectId('661dcac8d75ab54c7a0b0203')},\n",
      " {'Gender': 'Female',\n",
      "  'Year': 2017,\n",
      "  '_id': ObjectId('661dcac8d75ab54c7a0b01f6')},\n",
      " {'Gender': 'Female',\n",
      "  'Year': 2016,\n",
      "  '_id': ObjectId('661dcac8d75ab54c7a0b01f0')},\n",
      " {'Gender': 'Male', 'Year': 2021, '_id': ObjectId('661dcac8d75ab54c7a0b01d5')},\n",
      " {'Gender': 'Male', 'Year': 2018, '_id': ObjectId('661dcac8d75ab54c7a0b01f8')},\n",
      " {'Gender': 'Male', 'Year': 2019, '_id': ObjectId('661dcac8d75ab54c7a0b01d4')},\n",
      " {'Gender': 'Female',\n",
      "  'Year': 2018,\n",
      "  '_id': ObjectId('661dcac8d75ab54c7a0b01f2')},\n",
      " {'Gender': 'Male', 'Year': 2016, '_id': ObjectId('661dcac8d75ab54c7a0b01fd')}]\n"
     ]
    }
   ],
   "source": [
    "query ={'Gender': {'$in' : [\"Female\", \"Male\"]}}\n",
    "#remove other fields\n",
    "fields = {\"Year\":1, \"Race/Ethnicity\": 1, 'Gender': 1}\n",
    "sort = [(\"Race/Ethnicity\",1)]\n",
    "limit = 8\n",
    "\n",
    "results = list(alz_list.find(query,fields).sort(sort).limit(limit))\n",
    "pprint(results)"
   ]
  },
  {
   "cell_type": "code",
   "execution_count": 11,
   "id": "31071ed5",
   "metadata": {},
   "outputs": [],
   "source": [
    "query = [{'$group': {'_id': \"$Year\", 'count': {'$sum': 1}}}]"
   ]
  },
  {
   "cell_type": "code",
   "execution_count": 12,
   "id": "c3b29775",
   "metadata": {},
   "outputs": [],
   "source": [
    "results = list(alz_list.aggregate(query))"
   ]
  },
  {
   "cell_type": "code",
   "execution_count": 13,
   "id": "946652e1",
   "metadata": {},
   "outputs": [
    {
     "name": "stdout",
     "output_type": "stream",
     "text": [
      "Number of cases  7\n"
     ]
    }
   ],
   "source": [
    "print(\"Number of cases \", len(results))"
   ]
  },
  {
   "cell_type": "code",
   "execution_count": 14,
   "id": "36fa763a",
   "metadata": {},
   "outputs": [
    {
     "name": "stdout",
     "output_type": "stream",
     "text": [
      "[{'_id': 2020, 'count': 25579},\n",
      " {'_id': 2021, 'count': 26806},\n",
      " {'_id': 2018, 'count': 11696},\n",
      " {'_id': 2015, 'count': 13500},\n",
      " {'_id': 2019, 'count': 13158},\n",
      " {'_id': 2016, 'count': 21701},\n",
      " {'_id': 2017, 'count': 13028}]\n"
     ]
    }
   ],
   "source": [
    "pprint(results[0:10])"
   ]
  },
  {
   "cell_type": "code",
   "execution_count": 15,
   "id": "54d2fe31",
   "metadata": {
    "scrolled": true
   },
   "outputs": [
    {
     "data": {
      "text/html": [
       "<div>\n",
       "<style scoped>\n",
       "    .dataframe tbody tr th:only-of-type {\n",
       "        vertical-align: middle;\n",
       "    }\n",
       "\n",
       "    .dataframe tbody tr th {\n",
       "        vertical-align: top;\n",
       "    }\n",
       "\n",
       "    .dataframe thead th {\n",
       "        text-align: right;\n",
       "    }\n",
       "</style>\n",
       "<table border=\"1\" class=\"dataframe\">\n",
       "  <thead>\n",
       "    <tr style=\"text-align: right;\">\n",
       "      <th></th>\n",
       "      <th>_id</th>\n",
       "      <th>count</th>\n",
       "    </tr>\n",
       "  </thead>\n",
       "  <tbody>\n",
       "    <tr>\n",
       "      <th>0</th>\n",
       "      <td>2020</td>\n",
       "      <td>25579</td>\n",
       "    </tr>\n",
       "    <tr>\n",
       "      <th>1</th>\n",
       "      <td>2021</td>\n",
       "      <td>26806</td>\n",
       "    </tr>\n",
       "    <tr>\n",
       "      <th>2</th>\n",
       "      <td>2018</td>\n",
       "      <td>11696</td>\n",
       "    </tr>\n",
       "    <tr>\n",
       "      <th>3</th>\n",
       "      <td>2015</td>\n",
       "      <td>13500</td>\n",
       "    </tr>\n",
       "    <tr>\n",
       "      <th>4</th>\n",
       "      <td>2019</td>\n",
       "      <td>13158</td>\n",
       "    </tr>\n",
       "    <tr>\n",
       "      <th>5</th>\n",
       "      <td>2016</td>\n",
       "      <td>21701</td>\n",
       "    </tr>\n",
       "    <tr>\n",
       "      <th>6</th>\n",
       "      <td>2017</td>\n",
       "      <td>13028</td>\n",
       "    </tr>\n",
       "  </tbody>\n",
       "</table>\n",
       "</div>"
      ],
      "text/plain": [
       "    _id  count\n",
       "0  2020  25579\n",
       "1  2021  26806\n",
       "2  2018  11696\n",
       "3  2015  13500\n",
       "4  2019  13158\n",
       "5  2016  21701\n",
       "6  2017  13028"
      ]
     },
     "execution_count": 15,
     "metadata": {},
     "output_type": "execute_result"
    }
   ],
   "source": [
    "finalresult_df = pd.DataFrame(results)\n",
    "finalresult_df.head(10)"
   ]
  },
  {
   "cell_type": "code",
   "execution_count": 16,
   "id": "5df3a87c",
   "metadata": {
    "scrolled": true
   },
   "outputs": [
    {
     "data": {
      "image/png": "[encoded data removed]",
      "text/plain": [
       "<Figure size 600x600 with 1 Axes>"
      ]
     },
     "metadata": {},
     "output_type": "display_data"
    }
   ],
   "source": [
    "finalresult_df.plot(kind=\"pie\",\n",
    "                    y=\"_id\",\n",
    "                    autopct='%1.1f%%',\n",
    "                    ylabel='',\n",
    "                    labels=finalresult_df._id,\n",
    "                    legend=False,\n",
    "                    title=\"Percentage Alzhaimers Cases By Year\",\n",
    "                    figsize=(6,6))\n",
    "                    \n",
    "plt.savefig(\"Alzhaimerspercentagecasesbyyear.png\")                 \n",
    "plt.show()"
   ]
  }
 ],
 "metadata": {
  "kernelspec": {
   "display_name": "dev",
   "language": "python",
   "name": "dev"
  },
  "language_info": {
   "codemirror_mode": {
    "name": "ipython",
    "version": 3
   },
   "file_extension": ".py",
   "mimetype": "text/x-python",
   "name": "python",
   "nbconvert_exporter": "python",
   "pygments_lexer": "ipython3",
   "version": "3.10.13"
  }
 },
 "nbformat": 4,
 "nbformat_minor": 5
}
