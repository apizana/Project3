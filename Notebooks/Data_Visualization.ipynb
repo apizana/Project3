{
 "cells": [
  {
   "cell_type": "code",
   "execution_count": 9,
   "id": "2fa2aed2",
   "metadata": {},
   "outputs": [],
   "source": [
    "from pymongo import MongoClient\n",
    "import pandas as pd\n",
    "from pprint import pprint\n",
    "import matplotlib.pyplot as plt\n",
    "import ipywidgets as widgets\n",
    "from IPython.display import display"
   ]
  },
  {
   "cell_type": "code",
   "execution_count": 10,
   "id": "af92e5ca",
   "metadata": {},
   "outputs": [],
   "source": [
    "# Create an instance of MongoClient\n",
    "mongo = MongoClient(port=27017)"
   ]
  },
  {
   "cell_type": "code",
   "execution_count": 11,
   "id": "19fd472a",
   "metadata": {},
   "outputs": [],
   "source": [
    "db = mongo['AlzheimersDB']"
   ]
  },
  {
   "cell_type": "code",
   "execution_count": 12,
   "id": "817fbe7b",
   "metadata": {},
   "outputs": [],
   "source": [
    "Questions = db['Question_Data']"
   ]
  },
  {
   "cell_type": "code",
   "execution_count": 13,
   "id": "e2cd224c",
   "metadata": {},
   "outputs": [],
   "source": [
    "data = list(Questions.find({\"LocationDesc\": \"Texas\", \"Age Group\": \"Overall\"}, {\"_id\": 0}))\n",
    "\n",
    "AlzDB_df = pd.DataFrame(data)"
   ]
  },
  {
   "cell_type": "code",
   "execution_count": 14,
   "id": "173dac62",
   "metadata": {},
   "outputs": [
    {
     "data": {
      "application/vnd.jupyter.widget-view+json": {
       "model_id": "bdef408737b44141bccbd18aeb17b933",
       "version_major": 2,
       "version_minor": 0
      },
      "text/plain": [
       "Dropdown(description='Select Question:', options=('Percentage of older adults who are eating 3 or more vegetab…"
      ]
     },
     "metadata": {},
     "output_type": "display_data"
    },
    {
     "data": {
      "application/vnd.jupyter.widget-view+json": {
       "model_id": "d30c43fa3a6b42609f4d1437c29eb810",
       "version_major": 2,
       "version_minor": 0
      },
      "text/plain": [
       "Dropdown(description='Select Gender or Race/Ethnicity:', options=('Female', 'Hispanic', 'Black, non-Hispanic',…"
      ]
     },
     "metadata": {},
     "output_type": "display_data"
    },
    {
     "data": {
      "application/vnd.jupyter.widget-view+json": {
       "model_id": "b695b22b98fc4f0a922436f45dcdb51b",
       "version_major": 2,
       "version_minor": 0
      },
      "text/plain": [
       "Output()"
      ]
     },
     "metadata": {},
     "output_type": "display_data"
    }
   ],
   "source": [
    "\n",
    "# Create dropdown widgets\n",
    "question_dropdown = widgets.Dropdown(\n",
    "    options=AlzDB_df['Question'].unique(),\n",
    "    description='Select Question:'\n",
    ")\n",
    "\n",
    "stratification_dropdown = widgets.Dropdown(\n",
    "    options=AlzDB_df['Gender or Race/Ethnicity'].unique(),\n",
    "    description='Select Gender or Race/Ethnicity:'\n",
    ")\n",
    "\n",
    "# Define update_data function\n",
    "def update_data(change):\n",
    "    question = question_dropdown.value\n",
    "    stratification = stratification_dropdown.value\n",
    "    if question is not None and stratification is not None:\n",
    "        filtered_data = AlzDB_df[(AlzDB_df['Question'] == question) & (AlzDB_df['Gender or Race/Ethnicity'] == stratification)]\n",
    "        with output:\n",
    "            output.clear_output()\n",
    "            display(filtered_data)\n",
    "\n",
    "# Observe dropdown changes\n",
    "question_dropdown.observe(update_data, names='value')\n",
    "stratification_dropdown.observe(update_data, names='value')\n",
    "\n",
    "# Create a button widget to show data\n",
    "button = widgets.Button(description='Show Data')\n",
    "\n",
    "# Create an output widget\n",
    "output = widgets.Output()\n",
    "\n",
    "# Define show_data function\n",
    "def show_data(button):\n",
    "    output.clear_output()\n",
    "    question = question_dropdown.value\n",
    "    stratification = stratification_dropdown.value\n",
    "    if question is not None and stratification is not None:\n",
    "        filtered_data = AlzDB_df[(AlzDB_df['Question'] == question) & (AlzDB_df['Gender or Race/Ethnicity'] == stratification)]\n",
    "        with output:\n",
    "            display(filtered_data)\n",
    "\n",
    "# Attach show_data function to button\n",
    "button.on_click(show_data)\n",
    "\n",
    "# Display widgets\n",
    "display(question_dropdown, stratification_dropdown, output)\n"
   ]
  },
  {
   "cell_type": "code",
   "execution_count": null,
   "id": "786450c8",
   "metadata": {},
   "outputs": [],
   "source": []
  }
 ],
 "metadata": {
  "kernelspec": {
   "display_name": "dev",
   "language": "python",
   "name": "dev"
  },
  "language_info": {
   "codemirror_mode": {
    "name": "ipython",
    "version": 3
   },
   "file_extension": ".py",
   "mimetype": "text/x-python",
   "name": "python",
   "nbconvert_exporter": "python",
   "pygments_lexer": "ipython3",
   "version": "3.10.13"
  }
 },
 "nbformat": 4,
 "nbformat_minor": 5
}
